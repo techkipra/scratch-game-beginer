#🐍 Python

#print
print("hello world");
name = "alpabet";
age = 29;
weight = 74.8;

print("the details are " , name, age, weight);
print("\n")

#operations
a = 10
b = 3


print("Addition:", a + b)
print("Subtraction:", a - b)
print("Multiplication:", a * b)
print("Division:", a / b)   # gives float
print("Floor Division:", a // b) # whole number only
print("Remainder:", a % b)  # remainder of division
print("Power:", a ** b)
print("\n")

orders= 85
average_order_value = 350.60

total_revenue = orders * average_order_value
print("revenue =", int(total_revenue))

commission = 2.5 /100 * (total_revenue)
print("commission =", int(commission))
payout = total_revenue - commission
print("payout =", int(payout))
print("\n")

#strings
#concat

seller = "Kiran Store"
category = "Electronics"

print("Seller Name: " + seller)
print("Category: " + category)
print("Seller Name:" + "see above ")
print("Category:" + "see above ")

#list
orders = [1001, 1002, 1003, 1004]
sellers = ["FreshMart", "Kiran Store", "DailyNeeds"]
print(orders)
print(sellers)

#Accessing Items
print(orders[0])   # first order → 1001
print(sellers[1])  # second seller → Kiran Store
print(a)

#3️⃣ Modifying Lists

sellers.append("MegaMart")   # add new seller
print(sellers)

sellers.remove("DailyNeeds") # remove seller
print(sellers)

#4️⃣ Useful in Seller Dashboard .  Orders list → store order IDs.Prices list → store all order values.
#Then we can loop through list to calculate totals.

order_values = [250.50, 400.75, 199.99, 520.00]

total_revenue = sum(order_values)  #eleimintaed the need of for loop-direct loop
print("Total Revenue = ₹", total_revenue)

#✅ Day 4 Exercise -Create a list of 5 order amounts: [120.5, 450.0, 230.75, 999.99, 320.0].
#Calculate:Total Revenue,Highest Order Value,Lowest Order Value

order_amounts = [120.5, 450.0, 230.75, 999.99, 320.0]
Total_Revenue = sum(order_amounts)                     #sum of list element-
print("Total Revenue = ₹", Total_Revenue)
Highest_Order_Value = max(order_amounts)               #max of list elements
print("Highest Order Value = ₹", Highest_Order_Value)
Lowest_Order_Value = min(order_amounts)                #min of list elements
print("Lowest Order Value = ₹", Lowest_Order_Value)


print("\n")

#2️⃣ for Loop (most common) = Used to go through each item in a list:

orders = [120.5, 450.0, 230.75, 999.99, 320.0]


for order in orders:
    print("Order Amount:", order)


print("\n")
#Example → calculate commission (2.5%) n payout on each order and 4️⃣ Even Shorter → Built-in Functions
#sum() → total revenue
#len() → number of orders
#max() / min() → highest & lowest order

orders = [120.5, 450.0, 230.75, 999.99, 320.0]
for order in orders:
   Commission = 0.025 * order
   payout =  order - Commission
   print(f"order- {order}, commission- {Commission}, payout- {payout} ")

print("\n")
print("total revenue=" , sum(orders))
print(" number of orders =" , len(orders))
print(" highest valued order=" , max(orders))
print(" lowest valued order=" , min(orders))

print("\n")



#Take orders list: [500, 1200, 750, 300, 1500]

#Use a loop to print commission (2.5%) and payout for each order.
#Then print:Total Orders, Total Revenue, Average Order Value

orders = [500, 1200, 750, 300, 1500]
for order in orders:
   Commission = 0.025 * order
   payout =  order - Commission
   print(f"order- {order}, commission- {Commission}, payout- {payout} ")


print("\n")
print("total revenue=",sum(orders), " number of orders =" , len(orders), " average order value = ", sum(orders)/len(orders))

print("\n")

#Conditions (if / else)

#If order > 1000, mark it as High Value, else Normal
order = 1200

if order > 1000:
    print("High Value Order")
else:
    print("Normal Order")

#Conditions inside Loops
print("\n")

orders = [500, 1200, 750, 300, 1500]

for order in orders:
    if order > 1000:
        print(f"Order {order} → High Value")
    else:
        print(f"Order {order} → Normal Value")

print("\n")
#From orders list [500, 1200, 750, 300, 1500]:
#Print commission & payout  .Also mark each order as "High Value" if > 1000 else "Normal".
#At the end, print how many High Value Orders you had.
i=0
orders = [500, 1200, 750, 300, 1500]
for order in orders:
  commission = 0.025 * order
  payout = order - commission
  print(f"order- {order}, commission- {commission}, payout- {payout}")
  if order > 1000:
    print("High Value Order")
    i= i+1
  else:
    print("Normal Order")

print("\n")
print("High Value Orders= ", i)



# Defining a Function

def greet_seller(name):
    print(f"\n Hello {name}, welcome to Seller Dashboard!")

#calling it
greet_seller("Kiran Store")

#function with Parameters + Return
def calculate_commission(order_amount):
    commission = order_amount * 0.025
    payout = order_amount - commission
    return commission, payout



c, p = calculate_commission(1200)
print("\nCommission:", c, "  Payout:", p)

def classify_order(order_amount):
    if order_amount > 1000:
        return "High Value"
    else:
        return "Normal"




#Write a function order_summary(order_amount) that:
# Calculates commission (2.5%) and payout.Classifies order as High Value / Normal.Prints the details.
#Use a loop to call this function for every order in [500, 1200, 750, 300, 1500].

print("\n")
def order_summary(order_amount):
       commission= 0.025 * order_amount
       payout = order_amount - commission
       classification = classify_order(order_amount)  
       print(f"Order Amount: {order_amount}, Commission: {commission}, Payout: {payout}, Classification: {classification}")

orders = [500, 1200, 750, 300, 1500]
for order in orders:
    order_summary(order)


#A dictionary stores data as key → value pair- is a data pocket like Seller profile → dictionary, Each order → dictionary (amount, commission, payout, status)

seller = {
    "name": "Kiran Store",
    "location": "Mumbai",
    "GSTIN": "27ABCDE1234F1Z5"
}

#Accessing Values
print(seller["name"])      # Kiran Store - in double quote
print(seller["location"])  # Mumbai

#Adding / Updating Data
seller["rating"] = 4.5
seller["location"] = "Pune"
print(seller)


#Create a dictionary for seller, Loop through seller’s orders and print order summary (reuse your order_summary() function).
#At the end, print seller’s Total Revenue and Average Order Value.

seller = {
    "name": "Kiran Store",
    "location": "Mumbai",
    "GSTIN": "27ABCDE1234F1Z5",
    "orders": [500, 1200, 750, 300, 1500]
}


def order_summery(order_amount):
  commission = 0.025 * order_amount
  payout = order_amount - commission
  classification = classify_order(order_amount)
  print(f"\n Order Amount: {order_amount}, Commission: {commission}, Payout: {payout}, Classification: {classification}")
   


for   order in seller["orders"]:
    order_summary(order)  #order summery method above which prints order details


print("\nTotal Revenue:", sum(seller["orders"]))
print("\nAverage Order Value:", sum(seller["orders"]) / len(seller["orders"]))



#Building Our First Seller Dashboard (Console v1
def classify_order(order_amount):
    return "High Value" if order_amount > 1000 else "Normal"

def order_summary(order_amount):
    commission = 0.025 * order_amount
    payout = order_amount - commission
    classification = classify_order(order_amount)
    return commission, payout, classification

seller = {
    "name": "Kiran Store",
    "location": "Mumbai",
    "GSTIN": "27ABCDE1234F1Z5",
    "orders": [500, 1200, 750, 300, 1500]
}

print("📊 Seller Dashboard")
print("-" * 30)
print(f"Seller: {seller['name']}")
print(f"Location: {seller['location']}")
print(f"GSTIN: {seller['GSTIN']}\n")

print("Orders:")
high_value_count = 0
for order in seller["orders"]:
    commission, payout, classification = order_summary(order)
    print(f"Order: {order} → Commission: {commission}, Payout: {payout}, Class: {classification}")
    if classification == "High Value":
        high_value_count += 1

print("\nSummary:")
print(f"Total Orders: {len(seller['orders'])}")
print(f"Total Revenue: {sum(seller['orders'])}")
print(f"Average Order Value: {sum(seller['orders']) / len(seller['orders'])}")
print(f"High Value Orders: {high_value_count}")

#File Handling-In real-world apps:Seller info comes from a database or CSV/JSON file.That way, data is persistent (not lost when program ends).

#Writing to a File
with open("seller_data.txt", "w") as f:
    f.write("Seller: Kiran Store\n")
    f.write("Location: Mumbai\n")
    f.write("GSTIN: 27ABCDE1234F1Z5\n")

#This creates a text file with seller details.

# Reading from a File
with open("seller_data.txt", "r") as f:
    content = f.read()
    print("\n",content)


#Saving Seller Orders (CSV style)
orders = [500, 1200, 750, 300, 1500]

with open("orders.csv", "w") as f:
    f.write("OrderAmount\n")
    for order in orders:
        f.write(str(order) + "\n")

#Loading Orders Back
loaded_orders = []
with open("orders.csv", "r") as f:  # with auto closes the file once done, f is file object
    next(f)  # skip header- next(f) → moves the file pointer forward by one line (skips it)
    for line in f:
        loaded_orders.append(float(line.strip()))  #line.strip() -Removes extra whitespace, including the "\n" newline at the end."500\n".strip() → "500"

print("Loaded Orders:", loaded_orders)





