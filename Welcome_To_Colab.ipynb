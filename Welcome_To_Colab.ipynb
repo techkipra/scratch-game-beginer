#print 
print("hello world");
name = "alpabet";
age = 29;
weight = 74.8;

print("the details are " , name, age, weight);
print("\n")

#operations
a = 10
b = 3


print("Addition:", a + b)
print("Subtraction:", a - b)
print("Multiplication:", a * b)
print("Division:", a / b)   # gives float
print("Floor Division:", a // b) # whole number only
print("Remainder:", a % b)  # remainder of division
print("Power:", a ** b) 
print("\n")

orders= 85
average_order_value = 350.60

total_revenue = orders * average_order_value
print("revenue =", int(total_revenue))

commission = 2.5 /100 * (total_revenue)
print("commission =", int(commission))
payout = total_revenue - commission
print("payout =", int(payout))
print("\n")

#strings
#concat

seller = "Kiran Store"
category = "Electronics"

#1 combine text + variables)
print("Seller Name: " + seller)
print("Category: " + category)

#2
print("Seller Name:" + "see above ")
print("Category:" + "see above ")

#3 combine text + variables)
print(f"Seller {seller} has received {category} orders today.") #f usage


seller = "FreshMart"
orders = 120
revenue = 45890.50
print(f"Seller {seller} has  {orders} orders with total revenue of ₹ {revenue} ")  #takes latest variable value even if they are already have value above



















